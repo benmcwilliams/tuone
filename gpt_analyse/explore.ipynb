{
 "cells": [
  {
   "cell_type": "code",
   "execution_count": 1,
   "metadata": {},
   "outputs": [],
   "source": [
    "from io import StringIO\n",
    "from openai import OpenAI\n",
    "import os\n",
    "from dotenv import load_dotenv\n",
    "load_dotenv()\n",
    "\n",
    "from functions import read_file\n",
    "from constants import summarise_company, summarise_company_system_message, summarise_company_model_used\n",
    "from constants import summarise_company_user_message, version\n",
    "\n",
    "api_key = os.getenv('OPENAI_API_KEY')\n",
    "file_contents = read_file('/Users/ben/Documents/bruegel/DATAn/WORKING/TUONE/tuone/article_scrape/output/company/{}.txt'.format(summarise_company))\n",
    "client = OpenAI()\n",
    "user_message = summarise_company_user_message + f\"{file_contents}\"\n",
    "\n",
    "completion = client.chat.completions.create(\n",
    "  model=summarise_company_model_used,\n",
    "  messages=[\n",
    "    {\"role\": \"system\", \"content\": summarise_company_system_message},\n",
    "    {\"role\": \"user\", \"content\": user_message}\n",
    "  ]\n",
    ")"
   ]
  },
  {
   "cell_type": "code",
   "execution_count": 5,
   "metadata": {},
   "outputs": [
    {
     "data": {
      "text/plain": [
       "\"Enel Green Power, through its subsidiary 3Sun, is undertaking the TANGO (iTaliAN pv Giga factOry) project to expand its solar panel factory in Catania, Sicily. The investment will increase the current production capacity of 200 MW/year to 3 GW by July 2024. This signifies a 15-fold increase and will establish the factory as Europe's largest high-performance bifacial photovoltaic module factory. The expansion is partly financed by UniCredit and SACE, with construction commencing in April 2022 and expected to be completed by 2024. Enel's CEO, Francesco Starace, highlighted the project's contribution to Europe's energy objectives and the potential for replicating the sustainable industrial model in other countries. The Gigafactory's sustainable and circular practices, employment generation, and contribution to reducing energy dependence were also emphasized. The project also received around 118 million euros in funding from the EU’s Innovation Fund. Additionally, the Gigafactory targets incorporating innovative technologies and aims to produce up to 5.5 TWh of renewable electricity per year. The factory's commitment to research, development, and sustainable practices was emphasized throughout the various projects, thereby signifying the company's dedication to advancing solar technology.\\n\\nDate of announcements: February 2023, April 2022\\nProjected completion: 2024\\nStatus: Under construction with partial financing already secured.\""
      ]
     },
     "execution_count": 5,
     "metadata": {},
     "output_type": "execute_result"
    }
   ],
   "source": [
    "completion.choices[0].message.content"
   ]
  },
  {
   "cell_type": "code",
   "execution_count": null,
   "metadata": {},
   "outputs": [],
   "source": [
    "output_file_path = 'gpt_analyse/output/summarise_company/{summarise_company}_{version}'\n",
    "with open(output_file_path, 'w') as file:\n",
    "    file.write(completion.choices[0].message)"
   ]
  }
 ],
 "metadata": {
  "kernelspec": {
   "display_name": "bingvenv",
   "language": "python",
   "name": "python3"
  },
  "language_info": {
   "codemirror_mode": {
    "name": "ipython",
    "version": 3
   },
   "file_extension": ".py",
   "mimetype": "text/x-python",
   "name": "python",
   "nbconvert_exporter": "python",
   "pygments_lexer": "ipython3",
   "version": "3.10.9"
  }
 },
 "nbformat": 4,
 "nbformat_minor": 2
}
