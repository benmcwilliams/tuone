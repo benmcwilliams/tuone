{
 "cells": [
  {
   "cell_type": "code",
   "execution_count": 18,
   "metadata": {},
   "outputs": [],
   "source": [
    "from io import StringIO\n",
    "from openai import OpenAI\n",
    "import os\n",
    "import ast\n",
    "api_key = os.getenv('OPENAI_API_KEY')\n",
    "from dotenv import load_dotenv\n",
    "load_dotenv()\n",
    "\n",
    "from functions import read_file\n",
    "from constants import summarise_company, summarise_company_model_used, version\n",
    "file_contents = read_file('/Users/ben/Documents/bruegel/DATAn/WORKING/TUONE/tuone/data/output/company/{}.txt'.format(summarise_company))\n"
   ]
  },
  {
   "cell_type": "code",
   "execution_count": 19,
   "metadata": {},
   "outputs": [
    {
     "name": "stdout",
     "output_type": "stream",
     "text": [
      "SVOLT Energy Technology Co, a Chinese battery maker, is planning to expand its footprint in Europe with the construction of up to five factories, aiming for a production capacity of at least 50 gigawatt-hours in Europe by the end of the decade. The company is looking at locations in eastern, northern, and western Europe, and is also in talks with several European car makers about battery cell supply agreements. SVOLT's expansion plans align with the broader trend of increasing investment in renewable energy and sustainable manufacturing in Europe, as seen in the establishment of industry alliances and initiatives aimed at scaling up solar PV manufacturing capacity and building a resilient European solar value chain.\n"
     ]
    }
   ],
   "source": [
    "#DEFINE your system prompt (could break this down into multiple element, eg ensuring csv output, accuracy)\n",
    "summarise_company_system_message = \"You are an energy analyst, tell me about {summarise_company}'s projects\"\n",
    "\n",
    "summarise_company_user_message = f\"Your user prompt, include {file_contents}\"\n",
    "\n",
    "client = OpenAI()\n",
    "user_message = summarise_company_user_message + f\"{file_contents}\"\n",
    "\n",
    "completion = client.chat.completions.create(\n",
    "  model=summarise_company_model_used,\n",
    "  messages=[\n",
    "    {\"role\": \"system\", \"content\": summarise_company_system_message},\n",
    "    {\"role\": \"user\", \"content\": user_message}\n",
    "  ]\n",
    ")\n",
    "\n",
    "print(completion.choices[0].message.content)"
   ]
  },
  {
   "cell_type": "code",
   "execution_count": 21,
   "metadata": {},
   "outputs": [
    {
     "name": "stdout",
     "output_type": "stream",
     "text": [
      "SVOLT Energy Technology Co, a Chinese battery maker, is planning to expand its footprint in Europe with the construction of up to five factories, aiming for a production capacity of at least 50 gigawatt-hours in Europe by the end of the decade. The company is looking at locations in eastern, northern, and western Europe, and is also in talks with several European car makers about battery cell supply agreements. SVOLT's expansion plans align with the broader trend of increasing investment in renewable energy and sustainable manufacturing in Europe, as seen in the establishment of industry alliances and initiatives aimed at scaling up solar PV manufacturing capacity and building a resilient European solar value chain.\n"
     ]
    }
   ],
   "source": [
    "print(completion.choices[0].message.content)"
   ]
  },
  {
   "cell_type": "code",
   "execution_count": null,
   "metadata": {},
   "outputs": [],
   "source": []
  }
 ],
 "metadata": {
  "kernelspec": {
   "display_name": "bingvenv",
   "language": "python",
   "name": "python3"
  },
  "language_info": {
   "codemirror_mode": {
    "name": "ipython",
    "version": 3
   },
   "file_extension": ".py",
   "mimetype": "text/x-python",
   "name": "python",
   "nbconvert_exporter": "python",
   "pygments_lexer": "ipython3",
   "version": "3.10.9"
  }
 },
 "nbformat": 4,
 "nbformat_minor": 2
}
